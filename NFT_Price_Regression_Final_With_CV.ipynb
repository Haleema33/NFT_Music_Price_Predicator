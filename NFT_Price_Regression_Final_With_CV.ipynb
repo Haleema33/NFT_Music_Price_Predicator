{
 "cells": [
  {
   "cell_type": "markdown",
   "id": "35660b83",
   "metadata": {},
   "source": [
    "# NFT Music Price Predication: AdaBoost and RandomForest Model"
   ]
  },
  {
   "cell_type": "code",
   "execution_count": 3,
   "id": "2d95c6d3",
   "metadata": {},
   "outputs": [],
   "source": [
    "# Import libraries\n",
    "import pandas as pd\n",
    "from sklearn.model_selection import train_test_split\n"
   ]
  },
  {
   "cell_type": "markdown",
   "id": "3c883c4f",
   "metadata": {},
   "source": [
    "## Dataset"
   ]
  },
  {
   "cell_type": "code",
   "execution_count": 4,
   "id": "07d36dbe",
   "metadata": {},
   "outputs": [
    {
     "data": {
      "text/html": [
       "<div>\n",
       "<style scoped>\n",
       "    .dataframe tbody tr th:only-of-type {\n",
       "        vertical-align: middle;\n",
       "    }\n",
       "\n",
       "    .dataframe tbody tr th {\n",
       "        vertical-align: top;\n",
       "    }\n",
       "\n",
       "    .dataframe thead th {\n",
       "        text-align: right;\n",
       "    }\n",
       "</style>\n",
       "<table border=\"1\" class=\"dataframe\">\n",
       "  <thead>\n",
       "    <tr style=\"text-align: right;\">\n",
       "      <th></th>\n",
       "      <th>CONTRACT_ADDRESS</th>\n",
       "      <th>TOKEN_ID</th>\n",
       "      <th>NFT_FIRST_PRICE</th>\n",
       "      <th>NFT_LAST_PRICE</th>\n",
       "      <th>NFT_AVG_PRICE</th>\n",
       "      <th>NFT_SALE_COUNT</th>\n",
       "      <th>COLLECTION_AVG_PRICE</th>\n",
       "      <th>COLLECTION_CEILING_PRICE</th>\n",
       "      <th>TOTAL_VOLUME_USD</th>\n",
       "      <th>CURRENT_OWNER</th>\n",
       "      <th>OWNER_TOTAL_PURCHASES</th>\n",
       "      <th>OWNER_DIVERSE_COLLECTIONS</th>\n",
       "      <th>OWNER_AVG_PURCHASE_PRICE</th>\n",
       "      <th>LAST_SALE_TIME_FORMATTED</th>\n",
       "    </tr>\n",
       "  </thead>\n",
       "  <tbody>\n",
       "    <tr>\n",
       "      <th>0</th>\n",
       "      <td>0xfb3765e0e7ac73e736566af913fa58c3cfd686b7</td>\n",
       "      <td>9881.0</td>\n",
       "      <td>4.978197</td>\n",
       "      <td>4.978197</td>\n",
       "      <td>4.978197</td>\n",
       "      <td>1.0</td>\n",
       "      <td>117825.0196</td>\n",
       "      <td>577302.976</td>\n",
       "      <td>376804412.7</td>\n",
       "      <td>0x34f5c36dfd35ef66c996eca754bc5e38165f31f4</td>\n",
       "      <td>9.0</td>\n",
       "      <td>3.0</td>\n",
       "      <td>8.049071</td>\n",
       "      <td>21/04/2025 18:34</td>\n",
       "    </tr>\n",
       "    <tr>\n",
       "      <th>1</th>\n",
       "      <td>0xfb3765e0e7ac73e736566af913fa58c3cfd686b7</td>\n",
       "      <td>7687.0</td>\n",
       "      <td>10.324640</td>\n",
       "      <td>12.707920</td>\n",
       "      <td>9.362174</td>\n",
       "      <td>3.0</td>\n",
       "      <td>117825.0196</td>\n",
       "      <td>577302.976</td>\n",
       "      <td>376804412.7</td>\n",
       "      <td>0xfda9c682976945df1c630b3c851947a8dd05d4c9</td>\n",
       "      <td>1.0</td>\n",
       "      <td>1.0</td>\n",
       "      <td>12.707920</td>\n",
       "      <td>20/04/2025 23:29</td>\n",
       "    </tr>\n",
       "    <tr>\n",
       "      <th>2</th>\n",
       "      <td>0xfb3765e0e7ac73e736566af913fa58c3cfd686b7</td>\n",
       "      <td>1028.0</td>\n",
       "      <td>4.990473</td>\n",
       "      <td>4.990473</td>\n",
       "      <td>4.990473</td>\n",
       "      <td>1.0</td>\n",
       "      <td>117825.0196</td>\n",
       "      <td>577302.976</td>\n",
       "      <td>376804412.7</td>\n",
       "      <td>0x34f5c36dfd35ef66c996eca754bc5e38165f31f4</td>\n",
       "      <td>9.0</td>\n",
       "      <td>3.0</td>\n",
       "      <td>8.049071</td>\n",
       "      <td>17/04/2025 18:13</td>\n",
       "    </tr>\n",
       "    <tr>\n",
       "      <th>3</th>\n",
       "      <td>0xfb3765e0e7ac73e736566af913fa58c3cfd686b7</td>\n",
       "      <td>1030.0</td>\n",
       "      <td>4.990473</td>\n",
       "      <td>4.990473</td>\n",
       "      <td>4.990473</td>\n",
       "      <td>1.0</td>\n",
       "      <td>117825.0196</td>\n",
       "      <td>577302.976</td>\n",
       "      <td>376804412.7</td>\n",
       "      <td>0x34f5c36dfd35ef66c996eca754bc5e38165f31f4</td>\n",
       "      <td>9.0</td>\n",
       "      <td>3.0</td>\n",
       "      <td>8.049071</td>\n",
       "      <td>17/04/2025 18:13</td>\n",
       "    </tr>\n",
       "    <tr>\n",
       "      <th>4</th>\n",
       "      <td>0xfb3765e0e7ac73e736566af913fa58c3cfd686b7</td>\n",
       "      <td>1033.0</td>\n",
       "      <td>4.990473</td>\n",
       "      <td>4.990473</td>\n",
       "      <td>4.990473</td>\n",
       "      <td>1.0</td>\n",
       "      <td>117825.0196</td>\n",
       "      <td>577302.976</td>\n",
       "      <td>376804412.7</td>\n",
       "      <td>0x34f5c36dfd35ef66c996eca754bc5e38165f31f4</td>\n",
       "      <td>9.0</td>\n",
       "      <td>3.0</td>\n",
       "      <td>8.049071</td>\n",
       "      <td>17/04/2025 18:13</td>\n",
       "    </tr>\n",
       "  </tbody>\n",
       "</table>\n",
       "</div>"
      ],
      "text/plain": [
       "                             CONTRACT_ADDRESS  TOKEN_ID  NFT_FIRST_PRICE  \\\n",
       "0  0xfb3765e0e7ac73e736566af913fa58c3cfd686b7    9881.0         4.978197   \n",
       "1  0xfb3765e0e7ac73e736566af913fa58c3cfd686b7    7687.0        10.324640   \n",
       "2  0xfb3765e0e7ac73e736566af913fa58c3cfd686b7    1028.0         4.990473   \n",
       "3  0xfb3765e0e7ac73e736566af913fa58c3cfd686b7    1030.0         4.990473   \n",
       "4  0xfb3765e0e7ac73e736566af913fa58c3cfd686b7    1033.0         4.990473   \n",
       "\n",
       "   NFT_LAST_PRICE  NFT_AVG_PRICE  NFT_SALE_COUNT  COLLECTION_AVG_PRICE  \\\n",
       "0        4.978197       4.978197             1.0           117825.0196   \n",
       "1       12.707920       9.362174             3.0           117825.0196   \n",
       "2        4.990473       4.990473             1.0           117825.0196   \n",
       "3        4.990473       4.990473             1.0           117825.0196   \n",
       "4        4.990473       4.990473             1.0           117825.0196   \n",
       "\n",
       "   COLLECTION_CEILING_PRICE  TOTAL_VOLUME_USD  \\\n",
       "0                577302.976       376804412.7   \n",
       "1                577302.976       376804412.7   \n",
       "2                577302.976       376804412.7   \n",
       "3                577302.976       376804412.7   \n",
       "4                577302.976       376804412.7   \n",
       "\n",
       "                                CURRENT_OWNER  OWNER_TOTAL_PURCHASES  \\\n",
       "0  0x34f5c36dfd35ef66c996eca754bc5e38165f31f4                    9.0   \n",
       "1  0xfda9c682976945df1c630b3c851947a8dd05d4c9                    1.0   \n",
       "2  0x34f5c36dfd35ef66c996eca754bc5e38165f31f4                    9.0   \n",
       "3  0x34f5c36dfd35ef66c996eca754bc5e38165f31f4                    9.0   \n",
       "4  0x34f5c36dfd35ef66c996eca754bc5e38165f31f4                    9.0   \n",
       "\n",
       "   OWNER_DIVERSE_COLLECTIONS  OWNER_AVG_PURCHASE_PRICE  \\\n",
       "0                        3.0                  8.049071   \n",
       "1                        1.0                 12.707920   \n",
       "2                        3.0                  8.049071   \n",
       "3                        3.0                  8.049071   \n",
       "4                        3.0                  8.049071   \n",
       "\n",
       "  LAST_SALE_TIME_FORMATTED  \n",
       "0         21/04/2025 18:34  \n",
       "1         20/04/2025 23:29  \n",
       "2         17/04/2025 18:13  \n",
       "3         17/04/2025 18:13  \n",
       "4         17/04/2025 18:13  "
      ]
     },
     "execution_count": 4,
     "metadata": {},
     "output_type": "execute_result"
    }
   ],
   "source": [
    "# Load dataset\n",
    "df = pd.read_csv('data\\\\Training_dataset_Cleaned_all_phasses_updated.csv')\n",
    "df.head()"
   ]
  },
  {
   "cell_type": "code",
   "execution_count": 5,
   "id": "3767adf8",
   "metadata": {},
   "outputs": [],
   "source": [
    "# Keep all columns, drop only missing rows\n",
    "df_full = df.dropna()"
   ]
  },
  {
   "cell_type": "markdown",
   "id": "27b5f85f",
   "metadata": {},
   "source": [
    "## Normalization"
   ]
  },
  {
   "cell_type": "code",
   "execution_count": 6,
   "id": "3420fb4d",
   "metadata": {},
   "outputs": [
    {
     "name": "stdout",
     "output_type": "stream",
     "text": [
      "Mean of features:\n",
      " TOKEN_ID                     5.211273e+03\n",
      "NFT_FIRST_PRICE              5.649347e+02\n",
      "NFT_LAST_PRICE               3.631315e+02\n",
      "NFT_AVG_PRICE                5.702055e+02\n",
      "NFT_SALE_COUNT               2.687000e+00\n",
      "COLLECTION_AVG_PRICE         7.029657e+04\n",
      "COLLECTION_CEILING_PRICE     3.722846e+05\n",
      "TOTAL_VOLUME_USD             2.310725e+08\n",
      "OWNER_TOTAL_PURCHASES        4.204767e+01\n",
      "OWNER_DIVERSE_COLLECTIONS    1.376667e+00\n",
      "OWNER_AVG_PURCHASE_PRICE     5.322567e+02\n",
      "dtype: float64\n",
      "\n",
      "Standard Deviation of features:\n",
      " TOKEN_ID                     2.960842e+03\n",
      "NFT_FIRST_PRICE              8.899504e+02\n",
      "NFT_LAST_PRICE               8.746961e+03\n",
      "NFT_AVG_PRICE                9.344909e+03\n",
      "NFT_SALE_COUNT               1.353039e+01\n",
      "COLLECTION_AVG_PRICE         5.741907e+04\n",
      "COLLECTION_CEILING_PRICE     2.476824e+05\n",
      "TOTAL_VOLUME_USD             1.760585e+08\n",
      "OWNER_TOTAL_PURCHASES        5.580874e+01\n",
      "OWNER_DIVERSE_COLLECTIONS    1.256177e+00\n",
      "OWNER_AVG_PURCHASE_PRICE     1.182422e+04\n",
      "dtype: float64\n"
     ]
    }
   ],
   "source": [
    "# Calculate mean and standard deviation for numeric columns\n",
    "mean_values = df.mean(numeric_only=True)\n",
    "std_values = df.std(numeric_only=True)\n",
    "print('Mean of features:\\n', mean_values)\n",
    "print('\\nStandard Deviation of features:\\n', std_values)"
   ]
  },
  {
   "cell_type": "markdown",
   "id": "4a043d6c",
   "metadata": {},
   "source": [
    "## Formatting"
   ]
  },
  {
   "cell_type": "code",
   "execution_count": 7,
   "id": "12668a20",
   "metadata": {},
   "outputs": [
    {
     "name": "stderr",
     "output_type": "stream",
     "text": [
      "C:\\Users\\HP\\AppData\\Local\\Temp\\ipykernel_14188\\314724941.py:2: SettingWithCopyWarning: \n",
      "A value is trying to be set on a copy of a slice from a DataFrame.\n",
      "Try using .loc[row_indexer,col_indexer] = value instead\n",
      "\n",
      "See the caveats in the documentation: https://pandas.pydata.org/pandas-docs/stable/user_guide/indexing.html#returning-a-view-versus-a-copy\n",
      "  df_full['LAST_SALE_TIME_FORMATTED'] = pd.to_datetime(df_full['LAST_SALE_TIME_FORMATTED'], format='%d/%m/%Y %H:%M')\n",
      "C:\\Users\\HP\\AppData\\Local\\Temp\\ipykernel_14188\\314724941.py:5: SettingWithCopyWarning: \n",
      "A value is trying to be set on a copy of a slice from a DataFrame.\n",
      "Try using .loc[row_indexer,col_indexer] = value instead\n",
      "\n",
      "See the caveats in the documentation: https://pandas.pydata.org/pandas-docs/stable/user_guide/indexing.html#returning-a-view-versus-a-copy\n",
      "  df_full['SALE_HOUR'] = df_full['LAST_SALE_TIME_FORMATTED'].dt.hour\n",
      "C:\\Users\\HP\\AppData\\Local\\Temp\\ipykernel_14188\\314724941.py:6: SettingWithCopyWarning: \n",
      "A value is trying to be set on a copy of a slice from a DataFrame.\n",
      "Try using .loc[row_indexer,col_indexer] = value instead\n",
      "\n",
      "See the caveats in the documentation: https://pandas.pydata.org/pandas-docs/stable/user_guide/indexing.html#returning-a-view-versus-a-copy\n",
      "  df_full['SALE_DAY'] = df_full['LAST_SALE_TIME_FORMATTED'].dt.day\n",
      "C:\\Users\\HP\\AppData\\Local\\Temp\\ipykernel_14188\\314724941.py:7: SettingWithCopyWarning: \n",
      "A value is trying to be set on a copy of a slice from a DataFrame.\n",
      "Try using .loc[row_indexer,col_indexer] = value instead\n",
      "\n",
      "See the caveats in the documentation: https://pandas.pydata.org/pandas-docs/stable/user_guide/indexing.html#returning-a-view-versus-a-copy\n",
      "  df_full['SALE_MONTH'] = df_full['LAST_SALE_TIME_FORMATTED'].dt.month\n",
      "C:\\Users\\HP\\AppData\\Local\\Temp\\ipykernel_14188\\314724941.py:10: SettingWithCopyWarning: \n",
      "A value is trying to be set on a copy of a slice from a DataFrame\n",
      "\n",
      "See the caveats in the documentation: https://pandas.pydata.org/pandas-docs/stable/user_guide/indexing.html#returning-a-view-versus-a-copy\n",
      "  df_full.drop(columns=['LAST_SALE_TIME_FORMATTED'], inplace=True)\n"
     ]
    }
   ],
   "source": [
    "# Convert LAST_SALE_TIME_FORMATTED to datetime and extract features\n",
    "df_full['LAST_SALE_TIME_FORMATTED'] = pd.to_datetime(df_full['LAST_SALE_TIME_FORMATTED'], format='%d/%m/%Y %H:%M')\n",
    "\n",
    "# Extract useful time-based features\n",
    "df_full['SALE_HOUR'] = df_full['LAST_SALE_TIME_FORMATTED'].dt.hour\n",
    "df_full['SALE_DAY'] = df_full['LAST_SALE_TIME_FORMATTED'].dt.day\n",
    "df_full['SALE_MONTH'] = df_full['LAST_SALE_TIME_FORMATTED'].dt.month\n",
    "\n",
    "# Drop the original datetime string column\n",
    "df_full.drop(columns=['LAST_SALE_TIME_FORMATTED'], inplace=True)"
   ]
  },
  {
   "cell_type": "code",
   "execution_count": 8,
   "id": "d4bc5a6e",
   "metadata": {},
   "outputs": [
    {
     "name": "stderr",
     "output_type": "stream",
     "text": [
      "C:\\Users\\HP\\AppData\\Local\\Temp\\ipykernel_14188\\715891046.py:8: SettingWithCopyWarning: \n",
      "A value is trying to be set on a copy of a slice from a DataFrame.\n",
      "Try using .loc[row_indexer,col_indexer] = value instead\n",
      "\n",
      "See the caveats in the documentation: https://pandas.pydata.org/pandas-docs/stable/user_guide/indexing.html#returning-a-view-versus-a-copy\n",
      "  df_full[col] = le.fit_transform(df_full[col])\n",
      "C:\\Users\\HP\\AppData\\Local\\Temp\\ipykernel_14188\\715891046.py:8: SettingWithCopyWarning: \n",
      "A value is trying to be set on a copy of a slice from a DataFrame.\n",
      "Try using .loc[row_indexer,col_indexer] = value instead\n",
      "\n",
      "See the caveats in the documentation: https://pandas.pydata.org/pandas-docs/stable/user_guide/indexing.html#returning-a-view-versus-a-copy\n",
      "  df_full[col] = le.fit_transform(df_full[col])\n"
     ]
    }
   ],
   "source": [
    "# Label Encoding for string columns\n",
    "from sklearn.preprocessing import LabelEncoder\n",
    "\n",
    "# Columns to encode\n",
    "label_encoders = {}\n",
    "for col in ['CONTRACT_ADDRESS', 'CURRENT_OWNER']:\n",
    "    le = LabelEncoder()\n",
    "    df_full[col] = le.fit_transform(df_full[col])\n",
    "    label_encoders[col] = le"
   ]
  },
  {
   "cell_type": "markdown",
   "id": "ddd72aab",
   "metadata": {},
   "source": [
    "## Target Value: Nft last price"
   ]
  },
  {
   "cell_type": "code",
   "execution_count": 9,
   "id": "2f3a35e5",
   "metadata": {},
   "outputs": [],
   "source": [
    "# Set up features and target (keeping all columns)\n",
    "X = df_full.drop(columns=['NFT_LAST_PRICE'])\n",
    "y = df_full['NFT_LAST_PRICE']"
   ]
  },
  {
   "cell_type": "markdown",
   "id": "526d14bd",
   "metadata": {},
   "source": [
    "## Splitting data into training and testing"
   ]
  },
  {
   "cell_type": "code",
   "execution_count": 10,
   "id": "9dc96c69",
   "metadata": {},
   "outputs": [
    {
     "data": {
      "text/plain": [
       "((1800, 15), (1200, 15))"
      ]
     },
     "execution_count": 10,
     "metadata": {},
     "output_type": "execute_result"
    }
   ],
   "source": [
    "# Train-test split (60% training, 40% testing)\n",
    "X = df_full.drop(columns=['NFT_LAST_PRICE'])\n",
    "y = df_full['NFT_LAST_PRICE']\n",
    "\n",
    "from sklearn.model_selection import train_test_split\n",
    "X_train, X_test, y_train, y_test = train_test_split(X, y, test_size=0.4, random_state=42)\n",
    "X_train.shape, X_test.shape"
   ]
  },
  {
   "cell_type": "markdown",
   "id": "c135c567",
   "metadata": {},
   "source": [
    "## Cross Validation"
   ]
  },
  {
   "cell_type": "code",
   "execution_count": 11,
   "id": "ec282cdf",
   "metadata": {},
   "outputs": [
    {
     "name": "stdout",
     "output_type": "stream",
     "text": [
      "Random Forest CV R² scores: [0.3161698  0.91155642 0.04604589 0.9264504  0.85682404]\n",
      "Random Forest Mean R²: 0.6114093104571054\n",
      "\n",
      "AdaBoost CV R² scores: [0.14733063 0.96271927 0.03000129 0.93278276 0.54352441]\n",
      "AdaBoost Mean R²: 0.5232716730725577\n"
     ]
    }
   ],
   "source": [
    "# Cross-validation for model evaluation\n",
    "from sklearn.ensemble import RandomForestRegressor, AdaBoostRegressor\n",
    "from sklearn.model_selection import cross_val_score\n",
    "\n",
    "# Initialize models\n",
    "rf_model = RandomForestRegressor(random_state=42)\n",
    "ada_model = AdaBoostRegressor(random_state=42)\n",
    "\n",
    "# Perform 5-fold cross-validation on the training data\n",
    "rf_scores = cross_val_score(rf_model, X_train, y_train, cv=5, scoring='r2')\n",
    "ada_scores = cross_val_score(ada_model, X_train, y_train, cv=5, scoring='r2')\n",
    "\n",
    "print('Random Forest CV R² scores:', rf_scores)\n",
    "print('Random Forest Mean R²:', rf_scores.mean())\n",
    "print('\\nAdaBoost CV R² scores:', ada_scores)\n",
    "print('AdaBoost Mean R²:', ada_scores.mean())"
   ]
  },
  {
   "cell_type": "markdown",
   "id": "9eb37cd2",
   "metadata": {},
   "source": [
    "# Using Regression:\n",
    "## Phase 1: NFT information"
   ]
  },
  {
   "cell_type": "code",
   "execution_count": 12,
   "id": "cc3afa98",
   "metadata": {},
   "outputs": [
    {
     "name": "stdout",
     "output_type": "stream",
     "text": [
      "                            RMSE       MAE        R2\n",
      "Random Forest (Scaled)  0.000469  0.000105  0.929503\n",
      "AdaBoost (Scaled)       0.000829  0.000550  0.779673\n"
     ]
    }
   ],
   "source": [
    "# Phase 1: Regression using normalized NFT_LAST_PRICE\n",
    "\n",
    "from sklearn.ensemble import RandomForestRegressor, AdaBoostRegressor\n",
    "from sklearn.model_selection import train_test_split\n",
    "from sklearn.metrics import mean_squared_error, mean_absolute_error, r2_score\n",
    "from sklearn.preprocessing import MinMaxScaler\n",
    "import numpy as np\n",
    "import pandas as pd\n",
    "\n",
    "# Define features and target for Phase 1\n",
    "phase1_features = ['TOKEN_ID', 'NFT_FIRST_PRICE', 'NFT_AVG_PRICE', 'NFT_SALE_COUNT']\n",
    "phase1_target = 'NFT_LAST_PRICE'\n",
    "\n",
    "# Prepare the data\n",
    "X_phase1 = df_full[phase1_features]\n",
    "y_phase1 = df_full[phase1_target]\n",
    "\n",
    "# Normalize the target variable to range [0, 1]\n",
    "scaler = MinMaxScaler()\n",
    "y_phase1_scaled = scaler.fit_transform(y_phase1.values.reshape(-1, 1)).ravel()\n",
    "\n",
    "# Split the data into training and testing sets (60/40)\n",
    "X_train_p1, X_test_p1, y_train_p1, y_test_p1 = train_test_split(X_phase1, y_phase1_scaled, test_size=0.4, random_state=42)\n",
    "\n",
    "# Initialize models\n",
    "rf_model = RandomForestRegressor(random_state=42)\n",
    "ada_model = AdaBoostRegressor(random_state=42)\n",
    "\n",
    "# Train models\n",
    "rf_model.fit(X_train_p1, y_train_p1)\n",
    "ada_model.fit(X_train_p1, y_train_p1)\n",
    "\n",
    "# Predict on test set\n",
    "rf_preds = rf_model.predict(X_test_p1)\n",
    "ada_preds = ada_model.predict(X_test_p1)\n",
    "\n",
    "# Evaluation metrics function\n",
    "def evaluate_model(y_true, y_pred):\n",
    "    return {\n",
    "        \"RMSE\": np.sqrt(mean_squared_error(y_true, y_pred)),\n",
    "        \"MAE\": mean_absolute_error(y_true, y_pred),\n",
    "        \"R2\": r2_score(y_true, y_pred)\n",
    "    }\n",
    "\n",
    "# Evaluate both models\n",
    "rf_metrics = evaluate_model(y_test_p1, rf_preds)\n",
    "ada_metrics = evaluate_model(y_test_p1, ada_preds)\n",
    "\n",
    "# Combine and display metrics\n",
    "metrics_df = pd.DataFrame([rf_metrics, ada_metrics], index=[\"Random Forest (Scaled)\", \"AdaBoost (Scaled)\"])\n",
    "print(metrics_df)\n"
   ]
  },
  {
   "cell_type": "markdown",
   "id": "9109a81a",
   "metadata": {},
   "source": [
    "## Phase 2: Nft information and its collection information"
   ]
  },
  {
   "cell_type": "code",
   "execution_count": 13,
   "id": "c8b5fb95",
   "metadata": {},
   "outputs": [
    {
     "name": "stdout",
     "output_type": "stream",
     "text": [
      "                             RMSE       MAE        R2\n",
      "Random Forest (Phase 2)  0.000441  0.000096  0.937549\n",
      "AdaBoost (Phase 2)       0.000808  0.000544  0.790611\n"
     ]
    }
   ],
   "source": [
    "# Phase 2: Regression using NFT + Collection Information\n",
    "\n",
    "from sklearn.ensemble import RandomForestRegressor, AdaBoostRegressor\n",
    "from sklearn.model_selection import train_test_split\n",
    "from sklearn.metrics import mean_squared_error, mean_absolute_error, r2_score\n",
    "from sklearn.preprocessing import LabelEncoder, MinMaxScaler\n",
    "import numpy as np\n",
    "import pandas as pd\n",
    "\n",
    "# Evaluation function\n",
    "def evaluate_model(y_true, y_pred):\n",
    "    return {\n",
    "        \"RMSE\": np.sqrt(mean_squared_error(y_true, y_pred)),\n",
    "        \"MAE\": mean_absolute_error(y_true, y_pred),\n",
    "        \"R2\": r2_score(y_true, y_pred)\n",
    "    }\n",
    "\n",
    "# Select features and target for Phase 2\n",
    "phase2_features = [\n",
    "    'TOKEN_ID', 'NFT_FIRST_PRICE', 'NFT_AVG_PRICE', 'NFT_SALE_COUNT',\n",
    "    'CONTRACT_ADDRESS', 'COLLECTION_AVG_PRICE', 'COLLECTION_CEILING_PRICE', 'TOTAL_VOLUME_USD'\n",
    "]\n",
    "phase2_target = 'NFT_LAST_PRICE'\n",
    "\n",
    "# Prepare input features and target\n",
    "X_phase2 = df_full[phase2_features].copy()\n",
    "y_phase2 = df_full[phase2_target]\n",
    "\n",
    "# Label encode CONTRACT_ADDRESS (string -> numeric)\n",
    "label_encoder_contract = LabelEncoder()\n",
    "X_phase2['CONTRACT_ADDRESS'] = label_encoder_contract.fit_transform(X_phase2['CONTRACT_ADDRESS'])\n",
    "\n",
    "# Normalize the target variable to range [0, 1]\n",
    "scaler = MinMaxScaler()\n",
    "y_phase2_scaled = scaler.fit_transform(y_phase2.values.reshape(-1, 1)).ravel()\n",
    "\n",
    "# Split into training and testing sets (60/40 split)\n",
    "X_train_p2, X_test_p2, y_train_p2, y_test_p2 = train_test_split(X_phase2, y_phase2_scaled, test_size=0.4, random_state=42)\n",
    "\n",
    "# Initialize models\n",
    "rf_model = RandomForestRegressor(random_state=42)\n",
    "ada_model = AdaBoostRegressor(random_state=42)\n",
    "\n",
    "# Train the models\n",
    "rf_model.fit(X_train_p2, y_train_p2)\n",
    "ada_model.fit(X_train_p2, y_train_p2)\n",
    "\n",
    "# Predict using the trained models\n",
    "rf_preds = rf_model.predict(X_test_p2)\n",
    "ada_preds = ada_model.predict(X_test_p2)\n",
    "\n",
    "# Evaluate model performance\n",
    "rf_metrics = evaluate_model(y_test_p2, rf_preds)\n",
    "ada_metrics = evaluate_model(y_test_p2, ada_preds)\n",
    "\n",
    "# Display results\n",
    "metrics_df = pd.DataFrame([rf_metrics, ada_metrics], index=[\"Random Forest (Phase 2)\", \"AdaBoost (Phase 2)\"])\n",
    "print(metrics_df)\n"
   ]
  },
  {
   "cell_type": "markdown",
   "id": "890fae51",
   "metadata": {},
   "source": [
    "## Phase 3: NFT and its owner information"
   ]
  },
  {
   "cell_type": "code",
   "execution_count": 14,
   "id": "6bfd2ca7",
   "metadata": {},
   "outputs": [
    {
     "name": "stdout",
     "output_type": "stream",
     "text": [
      "Phase 3 Evaluation Metrics:\n",
      "                              RMSE       MAE        R2\n",
      "Random Forest (Phase 3)  0.002794  0.000139 -1.504855\n",
      "AdaBoost (Phase 3)       0.000457  0.000307  0.932839\n",
      "\n",
      "Random Forest Feature Importances (Phase 3):\n",
      "                      Feature  Importance\n",
      "1              NFT_AVG_PRICE    0.410114\n",
      "2             NFT_SALE_COUNT    0.312010\n",
      "5   OWNER_AVG_PURCHASE_PRICE    0.176927\n",
      "0            NFT_FIRST_PRICE    0.075268\n",
      "8                 SALE_MONTH    0.015809\n",
      "7                   SALE_DAY    0.006694\n",
      "6                  SALE_HOUR    0.002232\n",
      "3      OWNER_TOTAL_PURCHASES    0.000720\n",
      "4  OWNER_DIVERSE_COLLECTIONS    0.000225\n"
     ]
    }
   ],
   "source": [
    "# Import necessary libraries\n",
    "from sklearn.ensemble import RandomForestRegressor, AdaBoostRegressor\n",
    "from sklearn.model_selection import train_test_split\n",
    "from sklearn.metrics import mean_squared_error, mean_absolute_error, r2_score\n",
    "from sklearn.preprocessing import MinMaxScaler, LabelEncoder\n",
    "import pandas as pd\n",
    "import numpy as np\n",
    "\n",
    "# Function to evaluate model performance\n",
    "def evaluate_model(y_true, y_pred):\n",
    "    return {\n",
    "        \"RMSE\": np.sqrt(mean_squared_error(y_true, y_pred)),\n",
    "        \"MAE\": mean_absolute_error(y_true, y_pred),\n",
    "        \"R2\": r2_score(y_true, y_pred)\n",
    "    }\n",
    "\n",
    "# Phase 3 features (excluding TOKEN_ID and CURRENT_OWNER)\n",
    "phase3_features = [\n",
    "    'NFT_FIRST_PRICE', 'NFT_AVG_PRICE', 'NFT_SALE_COUNT',\n",
    "    'OWNER_TOTAL_PURCHASES', 'OWNER_DIVERSE_COLLECTIONS',\n",
    "    'OWNER_AVG_PURCHASE_PRICE', 'SALE_HOUR', 'SALE_DAY', 'SALE_MONTH'\n",
    "]\n",
    "phase3_target = 'NFT_LAST_PRICE'\n",
    "\n",
    "# Prepare feature set\n",
    "X_phase3 = df_full[phase3_features].copy()\n",
    "y_phase3 = df_full[phase3_target]\n",
    "\n",
    "# Normalize the target\n",
    "scaler = MinMaxScaler()\n",
    "y_phase3_scaled = scaler.fit_transform(y_phase3.values.reshape(-1, 1)).ravel()\n",
    "\n",
    "# Split into training and testing sets (60/40)\n",
    "X_train, X_test, y_train, y_test = train_test_split(X_phase3, y_phase3_scaled, test_size=0.4, random_state=42)\n",
    "\n",
    "# Initialize models\n",
    "rf_model = RandomForestRegressor(random_state=42)\n",
    "ada_model = AdaBoostRegressor(random_state=42)\n",
    "\n",
    "# Train models\n",
    "rf_model.fit(X_train, y_train)\n",
    "ada_model.fit(X_train, y_train)\n",
    "\n",
    "# Predict on test set\n",
    "rf_preds = rf_model.predict(X_test)\n",
    "ada_preds = ada_model.predict(X_test)\n",
    "\n",
    "# Evaluate models\n",
    "rf_metrics = evaluate_model(y_test, rf_preds)\n",
    "ada_metrics = evaluate_model(y_test, ada_preds)\n",
    "\n",
    "# Display results\n",
    "metrics_df = pd.DataFrame([rf_metrics, ada_metrics], index=[\"Random Forest (Phase 3)\", \"AdaBoost (Phase 3)\"])\n",
    "print(\"Phase 3 Evaluation Metrics:\\n\", metrics_df)\n",
    "\n",
    "# Feature importance for Random Forest\n",
    "rf_importance = pd.DataFrame({\n",
    "    \"Feature\": X_phase3.columns,\n",
    "    \"Importance\": rf_model.feature_importances_\n",
    "}).sort_values(by=\"Importance\", ascending=False)\n",
    "\n",
    "print(\"\\nRandom Forest Feature Importances (Phase 3):\\n\", rf_importance)\n"
   ]
  },
  {
   "cell_type": "markdown",
   "id": "164d7e17",
   "metadata": {},
   "source": [
    "## Phase 4: NFT, its collection and owner information"
   ]
  },
  {
   "cell_type": "code",
   "execution_count": 15,
   "id": "fa66c650",
   "metadata": {},
   "outputs": [
    {
     "name": "stdout",
     "output_type": "stream",
     "text": [
      "Phase 4 Evaluation Metrics:\n",
      "                              RMSE       MAE        R2\n",
      "Random Forest (Phase 4)  0.002496  0.000129 -0.999459\n",
      "AdaBoost (Phase 4)       0.000478  0.000337  0.926682\n"
     ]
    }
   ],
   "source": [
    "# Import necessary libraries\n",
    "from sklearn.ensemble import RandomForestRegressor, AdaBoostRegressor\n",
    "from sklearn.model_selection import train_test_split\n",
    "from sklearn.metrics import mean_squared_error, mean_absolute_error, r2_score\n",
    "from sklearn.preprocessing import MinMaxScaler, LabelEncoder\n",
    "import pandas as pd\n",
    "import numpy as np\n",
    "\n",
    "# Function to evaluate model performance\n",
    "def evaluate_model(y_true, y_pred):\n",
    "    return {\n",
    "        \"RMSE\": np.sqrt(mean_squared_error(y_true, y_pred)),\n",
    "        \"MAE\": mean_absolute_error(y_true, y_pred),\n",
    "        \"R2\": r2_score(y_true, y_pred)\n",
    "    }\n",
    "\n",
    "# Define Phase 4 features (NFT + Collection + Owner Info)\n",
    "phase4_features = [\n",
    "    'NFT_FIRST_PRICE', 'NFT_AVG_PRICE', 'NFT_SALE_COUNT',  # Phase 1\n",
    "    'CONTRACT_ADDRESS', 'COLLECTION_AVG_PRICE', 'COLLECTION_CEILING_PRICE', 'TOTAL_VOLUME_USD',  # Phase 2\n",
    "    'OWNER_TOTAL_PURCHASES', 'OWNER_DIVERSE_COLLECTIONS', 'OWNER_AVG_PURCHASE_PRICE',  # Phase 3\n",
    "    'SALE_HOUR', 'SALE_DAY', 'SALE_MONTH'  # Extracted from date\n",
    "]\n",
    "\n",
    "phase4_target = 'NFT_LAST_PRICE'\n",
    "\n",
    "# Prepare feature set\n",
    "X_phase4 = df_full[phase4_features].copy()\n",
    "y_phase4 = df_full[phase4_target]\n",
    "\n",
    "# Label encode CONTRACT_ADDRESS\n",
    "label_encoder = LabelEncoder()\n",
    "X_phase4['CONTRACT_ADDRESS'] = label_encoder.fit_transform(X_phase4['CONTRACT_ADDRESS'])\n",
    "\n",
    "# Normalize the target variable\n",
    "scaler = MinMaxScaler()\n",
    "y_phase4_scaled = scaler.fit_transform(y_phase4.values.reshape(-1, 1)).ravel()\n",
    "\n",
    "# Train-test split (60/40)\n",
    "X_train, X_test, y_train, y_test = train_test_split(X_phase4, y_phase4_scaled, test_size=0.4, random_state=42)\n",
    "\n",
    "# Initialize models\n",
    "rf_model = RandomForestRegressor(random_state=42)\n",
    "ada_model = AdaBoostRegressor(random_state=42)\n",
    "\n",
    "# Train models\n",
    "rf_model.fit(X_train, y_train)\n",
    "ada_model.fit(X_train, y_train)\n",
    "\n",
    "# Predict\n",
    "rf_preds = rf_model.predict(X_test)\n",
    "ada_preds = ada_model.predict(X_test)\n",
    "\n",
    "# Evaluate\n",
    "rf_metrics = evaluate_model(y_test, rf_preds)\n",
    "ada_metrics = evaluate_model(y_test, ada_preds)\n",
    "\n",
    "# Combine results into a DataFrame\n",
    "metrics_df = pd.DataFrame([rf_metrics, ada_metrics], index=[\"Random Forest (Phase 4)\", \"AdaBoost (Phase 4)\"])\n",
    "print(\"Phase 4 Evaluation Metrics:\\n\", metrics_df)\n"
   ]
  },
  {
   "cell_type": "markdown",
   "id": "f3f6b1f9",
   "metadata": {},
   "source": [
    "## Predication on Training and testing data"
   ]
  },
  {
   "cell_type": "code",
   "execution_count": 16,
   "id": "f92fb001",
   "metadata": {},
   "outputs": [
    {
     "name": "stdout",
     "output_type": "stream",
     "text": [
      "Phase 4 - Train/Test Evaluation Metrics:\n",
      "            Model    Set      RMSE       MAE        R2\n",
      "0  Random Forest  Train  0.008943  0.000244  0.856477\n",
      "1  Random Forest   Test  0.002496  0.000129 -0.999459\n",
      "2       AdaBoost  Train  0.000474  0.000340  0.999597\n",
      "3       AdaBoost   Test  0.000478  0.000337  0.926682\n"
     ]
    }
   ],
   "source": [
    "# Predict on training and testing data\n",
    "rf_train_preds = rf_model.predict(X_train)\n",
    "rf_test_preds = rf_model.predict(X_test)\n",
    "\n",
    "ada_train_preds = ada_model.predict(X_train)\n",
    "ada_test_preds = ada_model.predict(X_test)\n",
    "\n",
    "# Evaluate both sets\n",
    "rf_train_metrics = evaluate_model(y_train, rf_train_preds)\n",
    "rf_test_metrics = evaluate_model(y_test, rf_test_preds)\n",
    "\n",
    "ada_train_metrics = evaluate_model(y_train, ada_train_preds)\n",
    "ada_test_metrics = evaluate_model(y_test, ada_test_preds)\n",
    "\n",
    "# Combine into one DataFrame\n",
    "results = pd.DataFrame({\n",
    "    'Model': ['Random Forest', 'Random Forest', 'AdaBoost', 'AdaBoost'],\n",
    "    'Set': ['Train', 'Test', 'Train', 'Test'],\n",
    "    'RMSE': [rf_train_metrics['RMSE'], rf_test_metrics['RMSE'], ada_train_metrics['RMSE'], ada_test_metrics['RMSE']],\n",
    "    'MAE': [rf_train_metrics['MAE'], rf_test_metrics['MAE'], ada_train_metrics['MAE'], ada_test_metrics['MAE']],\n",
    "    'R2': [rf_train_metrics['R2'], rf_test_metrics['R2'], ada_train_metrics['R2'], ada_test_metrics['R2']]\n",
    "})\n",
    "\n",
    "print(\"Phase 4 - Train/Test Evaluation Metrics:\\n\", results)\n"
   ]
  },
  {
   "cell_type": "markdown",
   "id": "e33ebee0",
   "metadata": {},
   "source": [
    "# Using Classification on Phase 4"
   ]
  },
  {
   "cell_type": "code",
   "execution_count": 17,
   "id": "587d5356",
   "metadata": {},
   "outputs": [
    {
     "name": "stderr",
     "output_type": "stream",
     "text": [
      "c:\\Users\\HP\\anaconda3\\Lib\\site-packages\\sklearn\\ensemble\\_weight_boosting.py:527: FutureWarning: The SAMME.R algorithm (the default) is deprecated and will be removed in 1.6. Use the SAMME algorithm to circumvent this warning.\n",
      "  warnings.warn(\n"
     ]
    },
    {
     "name": "stdout",
     "output_type": "stream",
     "text": [
      "Phase 4 Classification Metrics:\n",
      "                             AUC        F1  Precision    Recall\n",
      "Random Forest (Class)  0.987660  0.932766   0.936752  0.928814\n",
      "AdaBoost (Class)       0.973984  0.926789   0.910131  0.944068\n"
     ]
    }
   ],
   "source": [
    "# Import necessary libraries\n",
    "from sklearn.ensemble import RandomForestClassifier, AdaBoostClassifier\n",
    "from sklearn.model_selection import train_test_split\n",
    "from sklearn.metrics import roc_auc_score, f1_score, precision_score, recall_score\n",
    "from sklearn.preprocessing import LabelEncoder\n",
    "import pandas as pd\n",
    "import numpy as np\n",
    "\n",
    "# Function to evaluate classification model performance\n",
    "def classification_metrics(y_true, y_pred, y_proba):\n",
    "    return {\n",
    "        \"AUC\": roc_auc_score(y_true, y_proba),\n",
    "        \"F1\": f1_score(y_true, y_pred),\n",
    "        \"Precision\": precision_score(y_true, y_pred),\n",
    "        \"Recall\": recall_score(y_true, y_pred)\n",
    "    }\n",
    "\n",
    "# Use combined features from Phase 4 (NFT + Collection + Owner)\n",
    "phase4_features = [\n",
    "    'NFT_FIRST_PRICE', 'NFT_AVG_PRICE', 'NFT_SALE_COUNT',\n",
    "    'CONTRACT_ADDRESS', 'COLLECTION_AVG_PRICE', 'COLLECTION_CEILING_PRICE', 'TOTAL_VOLUME_USD',\n",
    "    'OWNER_TOTAL_PURCHASES', 'OWNER_DIVERSE_COLLECTIONS', 'OWNER_AVG_PURCHASE_PRICE',\n",
    "    'SALE_HOUR', 'SALE_DAY', 'SALE_MONTH'\n",
    "]\n",
    "\n",
    "# Classification target: Convert `NFT_LAST_PRICE` into a binary label based on median\n",
    "phase4_target = 'NFT_LAST_PRICE'\n",
    "y_class = (df_full[phase4_target] >= df_full[phase4_target].median()).astype(int)\n",
    "\n",
    "# Prepare feature data\n",
    "X_classification = df_full[phase4_features].copy()\n",
    "label_encoder = LabelEncoder()\n",
    "X_classification['CONTRACT_ADDRESS'] = label_encoder.fit_transform(X_classification['CONTRACT_ADDRESS'])\n",
    "\n",
    "# Split into training and testing sets\n",
    "X_train, X_test, y_train, y_test = train_test_split(X_classification, y_class, test_size=0.4, random_state=42)\n",
    "\n",
    "# Initialize classifiers\n",
    "rf_clf = RandomForestClassifier(random_state=42)\n",
    "ada_clf = AdaBoostClassifier(random_state=42)\n",
    "\n",
    "# Train classifiers\n",
    "rf_clf.fit(X_train, y_train)\n",
    "ada_clf.fit(X_train, y_train)\n",
    "\n",
    "# Predictions and probabilities\n",
    "rf_preds = rf_clf.predict(X_test)\n",
    "ada_preds = ada_clf.predict(X_test)\n",
    "rf_probs = rf_clf.predict_proba(X_test)[:, 1]\n",
    "ada_probs = ada_clf.predict_proba(X_test)[:, 1]\n",
    "\n",
    "# Evaluate models\n",
    "rf_metrics = classification_metrics(y_test, rf_preds, rf_probs)\n",
    "ada_metrics = classification_metrics(y_test, ada_preds, ada_probs)\n",
    "\n",
    "# Create results DataFrame\n",
    "metrics_df = pd.DataFrame([rf_metrics, ada_metrics], index=[\"Random Forest (Class)\", \"AdaBoost (Class)\"])\n",
    "print(\"Phase 4 Classification Metrics:\\n\", metrics_df)\n"
   ]
  },
  {
   "cell_type": "markdown",
   "id": "2ce98984",
   "metadata": {},
   "source": [
    "## Classification Plotting"
   ]
  },
  {
   "cell_type": "code",
   "execution_count": 18,
   "id": "86b92dc8",
   "metadata": {},
   "outputs": [
    {
     "data": {
      "image/png": "[encoded data removed]",
      "text/plain": [
       "<Figure size 800x600 with 1 Axes>"
      ]
     },
     "metadata": {},
     "output_type": "display_data"
    }
   ],
   "source": [
    "# Import matplotlib for plotting\n",
    "import matplotlib.pyplot as plt\n",
    "from sklearn.metrics import roc_curve, roc_auc_score\n",
    "\n",
    "# Compute ROC curve values for both models\n",
    "rf_fpr, rf_tpr, _ = roc_curve(y_test, rf_probs)\n",
    "ada_fpr, ada_tpr, _ = roc_curve(y_test, ada_probs)\n",
    "\n",
    "# Plot ROC curves\n",
    "plt.figure(figsize=(8, 6))\n",
    "plt.plot(rf_fpr, rf_tpr, label='Random Forest (AUC = {:.3f})'.format(roc_auc_score(y_test, rf_probs)))\n",
    "plt.plot(ada_fpr, ada_tpr, label='AdaBoost (AUC = {:.3f})'.format(roc_auc_score(y_test, ada_probs)))\n",
    "plt.plot([0, 1], [0, 1], 'k--', label='Random Guess')  # Diagonal reference line\n",
    "\n",
    "# Labels and styling\n",
    "plt.title('ROC Curve - Phase 4 Classification')\n",
    "plt.xlabel('False Positive Rate')\n",
    "plt.ylabel('True Positive Rate')\n",
    "plt.legend(loc='lower right')\n",
    "plt.grid(True)\n",
    "plt.tight_layout()\n",
    "plt.show()\n"
   ]
  },
  {
   "cell_type": "markdown",
   "id": "8a9ff8fd",
   "metadata": {},
   "source": [
    "## Results of All Four Phases using regression"
   ]
  },
  {
   "cell_type": "code",
   "execution_count": 19,
   "id": "327202f8",
   "metadata": {},
   "outputs": [
    {
     "data": {
      "text/html": [
       "<div>\n",
       "<style scoped>\n",
       "    .dataframe tbody tr th:only-of-type {\n",
       "        vertical-align: middle;\n",
       "    }\n",
       "\n",
       "    .dataframe tbody tr th {\n",
       "        vertical-align: top;\n",
       "    }\n",
       "\n",
       "    .dataframe thead th {\n",
       "        text-align: right;\n",
       "    }\n",
       "</style>\n",
       "<table border=\"1\" class=\"dataframe\">\n",
       "  <thead>\n",
       "    <tr style=\"text-align: right;\">\n",
       "      <th></th>\n",
       "      <th>Phase</th>\n",
       "      <th>Model</th>\n",
       "      <th>RMSE</th>\n",
       "      <th>MAE</th>\n",
       "      <th>R2</th>\n",
       "    </tr>\n",
       "  </thead>\n",
       "  <tbody>\n",
       "    <tr>\n",
       "      <th>0</th>\n",
       "      <td>Phase 1</td>\n",
       "      <td>Random Forest</td>\n",
       "      <td>0.000469</td>\n",
       "      <td>0.000105</td>\n",
       "      <td>0.929503</td>\n",
       "    </tr>\n",
       "    <tr>\n",
       "      <th>1</th>\n",
       "      <td>Phase 1</td>\n",
       "      <td>AdaBoost</td>\n",
       "      <td>0.000829</td>\n",
       "      <td>0.000550</td>\n",
       "      <td>0.779673</td>\n",
       "    </tr>\n",
       "    <tr>\n",
       "      <th>2</th>\n",
       "      <td>Phase 2</td>\n",
       "      <td>Random Forest</td>\n",
       "      <td>0.000441</td>\n",
       "      <td>0.000096</td>\n",
       "      <td>0.937549</td>\n",
       "    </tr>\n",
       "    <tr>\n",
       "      <th>3</th>\n",
       "      <td>Phase 2</td>\n",
       "      <td>AdaBoost</td>\n",
       "      <td>0.000808</td>\n",
       "      <td>0.000544</td>\n",
       "      <td>0.790611</td>\n",
       "    </tr>\n",
       "    <tr>\n",
       "      <th>4</th>\n",
       "      <td>Phase 3</td>\n",
       "      <td>Random Forest</td>\n",
       "      <td>0.002794</td>\n",
       "      <td>0.000139</td>\n",
       "      <td>-1.504855</td>\n",
       "    </tr>\n",
       "    <tr>\n",
       "      <th>5</th>\n",
       "      <td>Phase 3</td>\n",
       "      <td>AdaBoost</td>\n",
       "      <td>0.000457</td>\n",
       "      <td>0.000307</td>\n",
       "      <td>0.932839</td>\n",
       "    </tr>\n",
       "    <tr>\n",
       "      <th>6</th>\n",
       "      <td>Phase 4</td>\n",
       "      <td>Random Forest</td>\n",
       "      <td>0.002496</td>\n",
       "      <td>0.000129</td>\n",
       "      <td>-0.999459</td>\n",
       "    </tr>\n",
       "    <tr>\n",
       "      <th>7</th>\n",
       "      <td>Phase 4</td>\n",
       "      <td>AdaBoost</td>\n",
       "      <td>0.000478</td>\n",
       "      <td>0.000337</td>\n",
       "      <td>0.926682</td>\n",
       "    </tr>\n",
       "  </tbody>\n",
       "</table>\n",
       "</div>"
      ],
      "text/plain": [
       "     Phase          Model      RMSE       MAE        R2\n",
       "0  Phase 1  Random Forest  0.000469  0.000105  0.929503\n",
       "1  Phase 1       AdaBoost  0.000829  0.000550  0.779673\n",
       "2  Phase 2  Random Forest  0.000441  0.000096  0.937549\n",
       "3  Phase 2       AdaBoost  0.000808  0.000544  0.790611\n",
       "4  Phase 3  Random Forest  0.002794  0.000139 -1.504855\n",
       "5  Phase 3       AdaBoost  0.000457  0.000307  0.932839\n",
       "6  Phase 4  Random Forest  0.002496  0.000129 -0.999459\n",
       "7  Phase 4       AdaBoost  0.000478  0.000337  0.926682"
      ]
     },
     "execution_count": 19,
     "metadata": {},
     "output_type": "execute_result"
    }
   ],
   "source": [
    "import pandas as pd\n",
    "import numpy as np\n",
    "from sklearn.ensemble import RandomForestRegressor, AdaBoostRegressor\n",
    "from sklearn.model_selection import train_test_split\n",
    "from sklearn.metrics import mean_squared_error, mean_absolute_error, r2_score\n",
    "from sklearn.preprocessing import LabelEncoder, MinMaxScaler\n",
    "import matplotlib.pyplot as plt\n",
    "\n",
    "df = pd.read_csv('data\\\\Training_dataset_Cleaned_all_phasses_updated.csv')\n",
    "df = df.dropna()\n",
    "df['LAST_SALE_TIME_FORMATTED'] = pd.to_datetime(df['LAST_SALE_TIME_FORMATTED'], format='%d/%m/%Y %H:%M')\n",
    "df['SALE_HOUR'] = df['LAST_SALE_TIME_FORMATTED'].dt.hour\n",
    "df['SALE_DAY'] = df['LAST_SALE_TIME_FORMATTED'].dt.day\n",
    "df['SALE_MONTH'] = df['LAST_SALE_TIME_FORMATTED'].dt.month\n",
    "df.drop(columns=['LAST_SALE_TIME_FORMATTED'], inplace=True)\n",
    "df['CONTRACT_ADDRESS'] = LabelEncoder().fit_transform(df['CONTRACT_ADDRESS'])\n",
    "df['CURRENT_OWNER'] = LabelEncoder().fit_transform(df['CURRENT_OWNER'])\n",
    "\n",
    "def evaluate_model(y_true, y_pred):\n",
    "    return {\n",
    "        \"RMSE\": np.sqrt(mean_squared_error(y_true, y_pred)),\n",
    "        \"MAE\": mean_absolute_error(y_true, y_pred),\n",
    "        \"R2\": r2_score(y_true, y_pred)\n",
    "    }\n",
    "\n",
    "phases = {\n",
    "    \"Phase 1\": ['TOKEN_ID', 'NFT_FIRST_PRICE', 'NFT_AVG_PRICE', 'NFT_SALE_COUNT'],\n",
    "    \"Phase 2\": ['TOKEN_ID', 'NFT_FIRST_PRICE', 'NFT_AVG_PRICE', 'NFT_SALE_COUNT',\n",
    "                'CONTRACT_ADDRESS', 'COLLECTION_AVG_PRICE', 'COLLECTION_CEILING_PRICE', 'TOTAL_VOLUME_USD'],\n",
    "    \"Phase 3\": ['NFT_FIRST_PRICE', 'NFT_AVG_PRICE', 'NFT_SALE_COUNT',\n",
    "                'OWNER_TOTAL_PURCHASES', 'OWNER_DIVERSE_COLLECTIONS',\n",
    "                'OWNER_AVG_PURCHASE_PRICE', 'SALE_HOUR', 'SALE_DAY', 'SALE_MONTH'],\n",
    "    \"Phase 4\": ['NFT_FIRST_PRICE', 'NFT_AVG_PRICE', 'NFT_SALE_COUNT',\n",
    "                'CONTRACT_ADDRESS', 'COLLECTION_AVG_PRICE', 'COLLECTION_CEILING_PRICE', 'TOTAL_VOLUME_USD',\n",
    "                'OWNER_TOTAL_PURCHASES', 'OWNER_DIVERSE_COLLECTIONS', 'OWNER_AVG_PURCHASE_PRICE',\n",
    "                'SALE_HOUR', 'SALE_DAY', 'SALE_MONTH']\n",
    "}\n",
    "\n",
    "scaler = MinMaxScaler()\n",
    "results = []\n",
    "\n",
    "for phase_name, features in phases.items():\n",
    "    X = df[features].copy()\n",
    "    y = df['NFT_LAST_PRICE']\n",
    "    y_scaled = scaler.fit_transform(y.values.reshape(-1, 1)).ravel()\n",
    "    X_train, X_test, y_train, y_test = train_test_split(X, y_scaled, test_size=0.4, random_state=42)\n",
    "\n",
    "    for model_name, model in [('Random Forest', RandomForestRegressor(random_state=42)),\n",
    "                              ('AdaBoost', AdaBoostRegressor(random_state=42))]:\n",
    "        model.fit(X_train, y_train)\n",
    "        preds = model.predict(X_test)\n",
    "        metrics = evaluate_model(y_test, preds)\n",
    "        results.append({\n",
    "            'Phase': phase_name,\n",
    "            'Model': model_name,\n",
    "            **metrics\n",
    "        })\n",
    "\n",
    "metrics_df = pd.DataFrame(results)\n",
    "metrics_df\n"
   ]
  },
  {
   "cell_type": "markdown",
   "id": "9b8890b4",
   "metadata": {},
   "source": [
    "## Graphs and Plotting for Regression"
   ]
  },
  {
   "cell_type": "code",
   "execution_count": 20,
   "id": "40e436cb",
   "metadata": {},
   "outputs": [
    {
     "data": {
      "image/png": "[encoded data removed]",
      "text/plain": [
       "<Figure size 1000x600 with 1 Axes>"
      ]
     },
     "metadata": {},
     "output_type": "display_data"
    },
    {
     "data": {
      "image/png": "[encoded data removed]",
      "text/plain": [
       "<Figure size 1000x600 with 1 Axes>"
      ]
     },
     "metadata": {},
     "output_type": "display_data"
    }
   ],
   "source": [
    "# Plot RMSE comparison\n",
    "plt.figure(figsize=(10, 6))\n",
    "for model in metrics_df['Model'].unique():\n",
    "    subset = metrics_df[metrics_df['Model'] == model]\n",
    "    plt.plot(subset['Phase'], subset['RMSE'], marker='o', label=f'{model} - RMSE')\n",
    "\n",
    "plt.title('RMSE Comparison Across Phases')\n",
    "plt.xlabel('Phase')\n",
    "plt.ylabel('RMSE')\n",
    "plt.legend()\n",
    "plt.grid(True)\n",
    "plt.tight_layout()\n",
    "plt.show()\n",
    "\n",
    "# Plot R2 comparison\n",
    "plt.figure(figsize=(10, 6))\n",
    "for model in metrics_df['Model'].unique():\n",
    "    subset = metrics_df[metrics_df['Model'] == model]\n",
    "    plt.plot(subset['Phase'], subset['R2'], marker='o', label=f'{model} - R²')\n",
    "\n",
    "plt.title('R² Score Comparison Across Phases')\n",
    "plt.xlabel('Phase')\n",
    "plt.ylabel('R² Score')\n",
    "plt.legend()\n",
    "plt.grid(True)\n",
    "plt.tight_layout()\n",
    "plt.show()\n"
   ]
  }
 ],
 "metadata": {
  "kernelspec": {
   "display_name": "base",
   "language": "python",
   "name": "python3"
  },
  "language_info": {
   "codemirror_mode": {
    "name": "ipython",
    "version": 3
   },
   "file_extension": ".py",
   "mimetype": "text/x-python",
   "name": "python",
   "nbconvert_exporter": "python",
   "pygments_lexer": "ipython3",
   "version": "3.12.7"
  }
 },
 "nbformat": 4,
 "nbformat_minor": 5
}
